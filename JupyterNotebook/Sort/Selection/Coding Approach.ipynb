{
 "cells": [
  {
   "cell_type": "markdown",
   "id": "e95a752a",
   "metadata": {},
   "source": [
    "# Selection Sort Algorithm"
   ]
  },
  {
   "cell_type": "code",
   "execution_count": 1,
   "id": "c931071a",
   "metadata": {},
   "outputs": [],
   "source": [
    "// Javascript program for modifying Selection Sort\n",
    "// so that it becomes stable.\n",
    " \n",
    "   function stableSelectionSort(a, n)\n",
    "    {\n",
    "        // Iterate through array elements\n",
    "        for (let i = 0; i < n - 1; i++) \n",
    "        {\n",
    "   \n",
    "            // Loop invariant : Elements till \n",
    "            // a[i - 1] are already sorted.\n",
    "   \n",
    "            // Find minimum element from \n",
    "            // arr[i] to arr[n - 1].\n",
    "            let min = i;\n",
    "            for (let j = i + 1; j < n; j++)\n",
    "                if (a[min] > a[j])\n",
    "                    min = j;\n",
    "   \n",
    "            // Move minimum element at current i.\n",
    "            let key = a[min];\n",
    "            while (min > i) \n",
    "            {\n",
    "                a[min] = a[min - 1];\n",
    "                min--;\n",
    "            }\n",
    "               \n",
    "            a[i] = key;\n",
    "        }\n",
    "    }"
   ]
  },
  {
   "cell_type": "code",
   "execution_count": 2,
   "id": "edad5fac",
   "metadata": {},
   "outputs": [],
   "source": [
    "let arr;\n",
    "let arrSize;"
   ]
  },
  {
   "cell_type": "code",
   "execution_count": 3,
   "id": "d95597a3",
   "metadata": {},
   "outputs": [
    {
     "data": {
      "text/plain": [
       "6"
      ]
     },
     "execution_count": 3,
     "metadata": {},
     "output_type": "execute_result"
    }
   ],
   "source": [
    "arr = [ 4, 5, 3, 2, 4, 1 ];\n",
    "arrSize = arr.length;"
   ]
  },
  {
   "cell_type": "code",
   "execution_count": 4,
   "id": "5df77017",
   "metadata": {},
   "outputs": [],
   "source": [
    "stableSelectionSort(arr, arrSize);"
   ]
  },
  {
   "cell_type": "code",
   "execution_count": 5,
   "id": "e834c54b",
   "metadata": {},
   "outputs": [
    {
     "data": {
      "text/plain": [
       "'1,2,3,4,4,5'"
      ]
     },
     "execution_count": 5,
     "metadata": {},
     "output_type": "execute_result"
    }
   ],
   "source": [
    "arr.join()"
   ]
  },
  {
   "cell_type": "markdown",
   "id": "e6fdfbfa",
   "metadata": {},
   "source": [
    "# Moving Values One Space to the Right"
   ]
  },
  {
   "cell_type": "code",
   "execution_count": 6,
   "id": "7047c921",
   "metadata": {},
   "outputs": [],
   "source": [
    "let arrMove;\n",
    "let stopIndex;\n",
    "let startIndex;"
   ]
  },
  {
   "cell_type": "code",
   "execution_count": 7,
   "id": "2b68bf04",
   "metadata": {},
   "outputs": [],
   "source": [
    "function printArray(arr){\n",
    "    for( var i = 0; i < arr.length; i++){\n",
    "        console.log( `[ ${i} ] = ${arr[i]}`)\n",
    "    }\n",
    "    \n",
    "};"
   ]
  },
  {
   "cell_type": "code",
   "execution_count": 8,
   "id": "7a202275",
   "metadata": {},
   "outputs": [
    {
     "data": {
      "text/plain": [
       "[ 0, 1, 2, 3, 4, 0 ]"
      ]
     },
     "execution_count": 8,
     "metadata": {},
     "output_type": "execute_result"
    }
   ],
   "source": [
    "arrMove = [ 0, 1, 2, 3, 4, 0 ];"
   ]
  },
  {
   "cell_type": "code",
   "execution_count": 9,
   "id": "00f5138b",
   "metadata": {},
   "outputs": [
    {
     "name": "stdout",
     "output_type": "stream",
     "text": [
      "[ 0 ] = 0\n",
      "[ 1 ] = 1\n",
      "[ 2 ] = 2\n",
      "[ 3 ] = 3\n",
      "[ 4 ] = 4\n",
      "[ 5 ] = 0\n"
     ]
    }
   ],
   "source": [
    "printArray(arrMove);"
   ]
  },
  {
   "cell_type": "code",
   "execution_count": 10,
   "id": "381971bd",
   "metadata": {},
   "outputs": [
    {
     "name": "stdout",
     "output_type": "stream",
     "text": [
      "[ 5] = 0 <= [ 4] = 4\n",
      "[ 4] = 4 <= [ 3] = 3\n",
      "[ 3] = 3 <= [ 2] = 2\n",
      "[ 2] = 2 <= [ 1] = 1\n"
     ]
    },
    {
     "data": {
      "text/plain": [
       "2"
      ]
     },
     "execution_count": 10,
     "metadata": {},
     "output_type": "execute_result"
    }
   ],
   "source": [
    "stopIndex = 1;\n",
    "startIndex = 5\n",
    "while (startIndex > stopIndex) \n",
    "{\n",
    "    console.log( `[ ${startIndex}] = ${arrMove[startIndex]} <= [ ${startIndex-1}] = ${arrMove[startIndex-1]}`)\n",
    "    arrMove[startIndex] = arrMove[startIndex - 1];\n",
    "    startIndex--;\n",
    "}"
   ]
  },
  {
   "cell_type": "code",
   "execution_count": 11,
   "id": "912cc414",
   "metadata": {},
   "outputs": [
    {
     "data": {
      "text/plain": [
       "'0,1,1,2,3,4'"
      ]
     },
     "execution_count": 11,
     "metadata": {},
     "output_type": "execute_result"
    }
   ],
   "source": [
    "arrMove.join()"
   ]
  },
  {
   "cell_type": "markdown",
   "id": "75e1560f",
   "metadata": {},
   "source": [
    "The Zero at index 5 will be overwrite."
   ]
  },
  {
   "cell_type": "code",
   "execution_count": 12,
   "id": "8e5d55ed",
   "metadata": {},
   "outputs": [
    {
     "name": "stdout",
     "output_type": "stream",
     "text": [
      "[ 0 ] = 0\n",
      "[ 1 ] = 1\n",
      "[ 2 ] = 1\n",
      "[ 3 ] = 2\n",
      "[ 4 ] = 3\n",
      "[ 5 ] = 4\n"
     ]
    }
   ],
   "source": [
    "printArray(arrMove);"
   ]
  },
  {
   "cell_type": "markdown",
   "id": "a12d5b04",
   "metadata": {},
   "source": [
    "# Looking for the Minimum Value"
   ]
  },
  {
   "cell_type": "code",
   "execution_count": 13,
   "id": "a6c1e2aa",
   "metadata": {},
   "outputs": [],
   "source": [
    "let min;\n",
    "let startMin;\n",
    "let arrMin;"
   ]
  },
  {
   "cell_type": "code",
   "execution_count": 24,
   "id": "ed14df25",
   "metadata": {},
   "outputs": [
    {
     "data": {
      "text/plain": [
       "[\n",
       "  0, 3, 10, 2,\n",
       "  4, 1,  9\n",
       "]"
      ]
     },
     "execution_count": 24,
     "metadata": {},
     "output_type": "execute_result"
    }
   ],
   "source": [
    "startMin = 1;\n",
    "min = startMin; \n",
    "arrMin = [ 0, 3, 10, 2, 4, 1, 9]"
   ]
  },
  {
   "cell_type": "code",
   "execution_count": 26,
   "id": "b77b2b5c",
   "metadata": {},
   "outputs": [
    {
     "name": "stdout",
     "output_type": "stream",
     "text": [
      "[ 1 ] = 3 > [2] = 10 ( false )\n",
      "[ 1 ] = 3 > [3] = 2 ( true )\n",
      "[ 3 ] = 2 > [4] = 4 ( false )\n",
      "[ 3 ] = 2 > [5] = 1 ( true )\n",
      "[ 5 ] = 1 > [6] = 9 ( false )\n"
     ]
    }
   ],
   "source": [
    "for (let j = startMin + 1; j < arrMin.length ; j++){\n",
    "    \n",
    "    console.log(`[ ${min} ] = ${arrMin[min]} > [${j}] = ${arrMin[j]} ( ${arrMin[min] > arrMin[j]} )` )\n",
    "    \n",
    "    if (arrMin[min] > arrMin[j]){\n",
    "          min = j;\n",
    "     }\n",
    "                   \n",
    "}             "
   ]
  },
  {
   "cell_type": "code",
   "execution_count": 27,
   "id": "de7b1ac1",
   "metadata": {},
   "outputs": [
    {
     "name": "stdout",
     "output_type": "stream",
     "text": [
      "5\n"
     ]
    }
   ],
   "source": [
    "console.log(min)"
   ]
  }
 ],
 "metadata": {
  "kernelspec": {
   "display_name": "JavaScript (Node.js)",
   "language": "javascript",
   "name": "javascript"
  },
  "language_info": {
   "file_extension": ".js",
   "mimetype": "application/javascript",
   "name": "javascript",
   "version": "20.11.1"
  }
 },
 "nbformat": 4,
 "nbformat_minor": 5
}
