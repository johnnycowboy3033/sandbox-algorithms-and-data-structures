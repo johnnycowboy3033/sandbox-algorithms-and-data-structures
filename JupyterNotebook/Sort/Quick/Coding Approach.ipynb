{
 "cells": [
  {
   "cell_type": "markdown",
   "id": "9f11654c",
   "metadata": {},
   "source": [
    "# Quick Sort Algorithm"
   ]
  },
  {
   "cell_type": "code",
   "execution_count": 2,
   "id": "b397e83b",
   "metadata": {},
   "outputs": [],
   "source": [
    "// Function to partition the array and return the partition index\n",
    "function partition(arr, low, high) {\n",
    "    // Choosing the pivot\n",
    "    let pivot = arr[high];\n",
    "  \n",
    "    // Index of smaller element and indicates the right position of pivot found so far\n",
    "    let i = low - 1;\n",
    "  \n",
    "    for (let j = low; j <= high - 1; j++) {\n",
    "        // If current element is smaller than the pivot\n",
    "        if (arr[j] < pivot) {\n",
    "            // Increment index of smaller element\n",
    "            i++;\n",
    "            [arr[i], arr[j]] = [arr[j], arr[i]]; // Swap elements\n",
    "        }\n",
    "    }\n",
    "  \n",
    "    [arr[i + 1], arr[high]] = [arr[high], arr[i + 1]]; // Swap pivot to its correct position\n",
    "    return i + 1; // Return the partition index\n",
    "}"
   ]
  },
  {
   "cell_type": "code",
   "execution_count": 3,
   "id": "f7519143",
   "metadata": {},
   "outputs": [],
   "source": [
    "// The main function that implements QuickSort\n",
    "function quickSort(arr, low, high) {\n",
    "    if (low < high) {\n",
    "        // pi is the partitioning index, arr[pi] is now at the right place\n",
    "        let pi = partition(arr, low, high);\n",
    "  \n",
    "        // Separately sort elements before partition and after partition\n",
    "        quickSort(arr, low, pi - 1);\n",
    "        quickSort(arr, pi + 1, high);\n",
    "    }\n",
    "}"
   ]
  },
  {
   "cell_type": "code",
   "execution_count": 4,
   "id": "48241e6a",
   "metadata": {},
   "outputs": [],
   "source": [
    "let arr;\n",
    "let N;"
   ]
  },
  {
   "cell_type": "code",
   "execution_count": 5,
   "id": "5c3be8f3",
   "metadata": {},
   "outputs": [
    {
     "data": {
      "text/plain": [
       "6"
      ]
     },
     "execution_count": 5,
     "metadata": {},
     "output_type": "execute_result"
    }
   ],
   "source": [
    "// Driver code\n",
    "arr = [10, 7, 8, 9, 1, 5];\n",
    "N = arr.length;"
   ]
  },
  {
   "cell_type": "code",
   "execution_count": 6,
   "id": "8f1d59ae",
   "metadata": {},
   "outputs": [
    {
     "name": "stdout",
     "output_type": "stream",
     "text": [
      "Sorted array:\n",
      "1 5 7 8 9 10\n"
     ]
    }
   ],
   "source": [
    "// Function call\n",
    "quickSort(arr, 0, N - 1);\n",
    "console.log(\"Sorted array:\");\n",
    "console.log(arr.join(\" \"));"
   ]
  },
  {
   "cell_type": "markdown",
   "id": "22372d8b",
   "metadata": {},
   "source": [
    "# Partition Index"
   ]
  },
  {
   "cell_type": "code",
   "execution_count": 7,
   "id": "f6e69110",
   "metadata": {},
   "outputs": [],
   "source": [
    "let arrayList;\n",
    "let arraySize;"
   ]
  },
  {
   "cell_type": "code",
   "execution_count": 8,
   "id": "026631c2",
   "metadata": {},
   "outputs": [
    {
     "data": {
      "text/plain": [
       "6"
      ]
     },
     "execution_count": 8,
     "metadata": {},
     "output_type": "execute_result"
    }
   ],
   "source": [
    "arrayList = [10, 7, 8, 9, 1, 5];\n",
    "arraySize = arrayList.length;"
   ]
  },
  {
   "cell_type": "code",
   "execution_count": 9,
   "id": "38664d54",
   "metadata": {},
   "outputs": [
    {
     "name": "stdout",
     "output_type": "stream",
     "text": [
      "1\n"
     ]
    }
   ],
   "source": [
    "console.log( partition(arrayList, 0, arraySize - 1) );"
   ]
  },
  {
   "cell_type": "markdown",
   "id": "b23ef47d",
   "metadata": {},
   "source": [
    "# Swap"
   ]
  },
  {
   "cell_type": "markdown",
   "id": "044b8489",
   "metadata": {},
   "source": [
    "Swap the first and the last element"
   ]
  },
  {
   "cell_type": "code",
   "execution_count": 10,
   "id": "6cf7919c",
   "metadata": {},
   "outputs": [],
   "source": [
    "let i;\n",
    "let j;"
   ]
  },
  {
   "cell_type": "code",
   "execution_count": 11,
   "id": "692ba10a",
   "metadata": {},
   "outputs": [
    {
     "data": {
      "text/plain": [
       "5"
      ]
     },
     "execution_count": 11,
     "metadata": {},
     "output_type": "execute_result"
    }
   ],
   "source": [
    "i=0\n",
    "j=arrayList.length-1;"
   ]
  },
  {
   "cell_type": "code",
   "execution_count": 12,
   "id": "c19aac48",
   "metadata": {},
   "outputs": [
    {
     "data": {
      "text/plain": [
       "'1,5,8,9,10,7'"
      ]
     },
     "execution_count": 12,
     "metadata": {},
     "output_type": "execute_result"
    }
   ],
   "source": [
    "arrayList.join()"
   ]
  },
  {
   "cell_type": "code",
   "execution_count": 13,
   "id": "c16587dc",
   "metadata": {},
   "outputs": [
    {
     "name": "stdout",
     "output_type": "stream",
     "text": [
      " 7,1 = 1,7\n"
     ]
    }
   ],
   "source": [
    "[arrayList[i], arrayList[j]] = [arrayList[j], arrayList[i]]\n",
    "console.log(` ${[arrayList[i], arrayList[j]]} = ${[arrayList[j], arrayList[i]]}`)"
   ]
  },
  {
   "cell_type": "code",
   "execution_count": 14,
   "id": "883f4d9c",
   "metadata": {},
   "outputs": [
    {
     "data": {
      "text/plain": [
       "'7,5,8,9,10,1'"
      ]
     },
     "execution_count": 14,
     "metadata": {},
     "output_type": "execute_result"
    }
   ],
   "source": [
    "arrayList.join()"
   ]
  },
  {
   "cell_type": "code",
   "execution_count": null,
   "id": "35782f1e",
   "metadata": {},
   "outputs": [],
   "source": []
  }
 ],
 "metadata": {
  "kernelspec": {
   "display_name": "JavaScript (Node.js)",
   "language": "javascript",
   "name": "javascript"
  },
  "language_info": {
   "file_extension": ".js",
   "mimetype": "application/javascript",
   "name": "javascript",
   "version": "20.11.1"
  }
 },
 "nbformat": 4,
 "nbformat_minor": 5
}
